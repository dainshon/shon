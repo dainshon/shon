{
 "cells": [
  {
   "cell_type": "code",
   "execution_count": 57,
   "id": "6daabe4a",
   "metadata": {},
   "outputs": [
    {
     "ename": "AttributeError",
     "evalue": "'numpy.ndarray' object has no attribute 'Point'",
     "output_type": "error",
     "traceback": [
      "\u001b[1;31m---------------------------------------------------------------------------\u001b[0m",
      "\u001b[1;31mAttributeError\u001b[0m                            Traceback (most recent call last)",
      "\u001b[1;32m<ipython-input-57-c701d909407b>\u001b[0m in \u001b[0;36m<module>\u001b[1;34m\u001b[0m\n\u001b[0;32m      5\u001b[0m         \u001b[1;32mreturn\u001b[0m \u001b[0ma\u001b[0m\u001b[1;33m+\u001b[0m\u001b[0mb\u001b[0m\u001b[1;33m\u001b[0m\u001b[1;33m\u001b[0m\u001b[0m\n\u001b[0;32m      6\u001b[0m \u001b[1;33m\u001b[0m\u001b[0m\n\u001b[1;32m----> 7\u001b[1;33m \u001b[0ma\u001b[0m\u001b[1;33m.\u001b[0m\u001b[0mPoint\u001b[0m\u001b[1;33m(\u001b[0m\u001b[1;36m1\u001b[0m\u001b[1;33m,\u001b[0m\u001b[1;36m2\u001b[0m\u001b[1;33m)\u001b[0m\u001b[1;33m\u001b[0m\u001b[1;33m\u001b[0m\u001b[0m\n\u001b[0m\u001b[0;32m      8\u001b[0m \u001b[0ma\u001b[0m\u001b[1;33m.\u001b[0m\u001b[0mshow\u001b[0m\u001b[1;33m(\u001b[0m\u001b[1;33m)\u001b[0m\u001b[1;33m\u001b[0m\u001b[1;33m\u001b[0m\u001b[0m\n\u001b[0;32m      9\u001b[0m \u001b[1;33m\u001b[0m\u001b[0m\n",
      "\u001b[1;31mAttributeError\u001b[0m: 'numpy.ndarray' object has no attribute 'Point'"
     ]
    }
   ],
   "source": [
    "class Point:\n",
    "    def show(self,a,b):\n",
    "        \n",
    "        print('({0},{1})'.format(a,b))\n",
    "        return a+b\n",
    "    \n",
    "a.Point(1,2)\n",
    "a.show()\n",
    "\n",
    "b=Point(3,4)\n",
    "b=show()\n",
    "\n",
    "a=a+b\n",
    "a.show()"
   ]
  },
  {
   "cell_type": "code",
   "execution_count": 52,
   "id": "e2bfb84d",
   "metadata": {},
   "outputs": [
    {
     "name": "stdout",
     "output_type": "stream",
     "text": [
      "1\n",
      "[9.185714285714285, 11.385714285714284, 7.185714285714285, 8.557142857142857, 9.700000000000001]\n",
      "Max Week=5/8~5/14\n"
     ]
    }
   ],
   "source": [
    "import csv\n",
    "\n",
    "\n",
    "f=open('seoul.csv','r',encoding='cp949')\n",
    "data=csv.reader(f)\n",
    "header=next(data)\n",
    "\n",
    "weeks=[1,8,15,22,29]\n",
    "weekf=[7,14,21,28,31]\n",
    "\n",
    "i=0\n",
    "temp=[0,0,0,0,0]\n",
    "\n",
    "for row in data:\n",
    "    temperature=0\n",
    "    row[4]=float(row[4])\n",
    "    row[3]=float(row[3])\n",
    "    temperature=float(row[4]-row[3])\n",
    "    temp[i]=temp[i]+temperature\n",
    "\n",
    "    k=int(row[0].split('-')[2])%7\n",
    "    \n",
    "    if k==0 or int(row[0].split('-')[2])==31:\n",
    "        i=i+1\n",
    "\n",
    "\n",
    "    \n",
    "for i in range(4):\n",
    "    temp[i]=temp[i]/7\n",
    "temp[4]=temp[4]/3\n",
    "\n",
    "max_num=0\n",
    "max_w=temp[0]\n",
    "for i in range(5):\n",
    "    if temp[i]>max_w:\n",
    "        max_w=temp[i]\n",
    "        max_num=i\n",
    "\n",
    "print('Max Week=5/{0}~5/{1}'.format(weeks[max_num],weekf[max_num]))\n",
    "        "
   ]
  },
  {
   "cell_type": "code",
   "execution_count": 68,
   "id": "113ba579",
   "metadata": {},
   "outputs": [
    {
     "name": "stdout",
     "output_type": "stream",
     "text": [
      "[1 1 0 1 0 1]\n",
      "[2 2 2]\n",
      "[1 1 0 0 1 0]\n",
      "[1 1 0 0 0 0]\n"
     ]
    }
   ],
   "source": [
    "import numpy as np\n",
    "import matplotlib.pyplot as plt\n",
    "\n",
    "a=np.array([1,1,0,1,0,1,1,1,1,0,1,0,1,1,0,1,0,0])\n",
    "a=a.reshape(3,6)\n",
    "q=[1,1,0,0,1,0]\n",
    "\n",
    "print(a[0])\n",
    "cos=np.array([0,0,0])\n",
    "\n",
    "for k in range(3):\n",
    "    for i in a[0]:\n",
    "        cos[k]=cos[k]+i*i\n",
    "    cos[k]=np.sqrt((cos[k]))\n",
    "\n",
    "u=np.array([0,0,0])\n",
    "for i in range(3):\n",
    "    u[i]=a[i]*q\n",
    "coss=np.array([0,0,0])\n",
    "for i in ragne(3):\n",
    "    coss=u[i]/cos[i]\n",
    "    \n",
    "x=[1,2,3]\n",
    "y=[coss[0], coss[1],coss[2]]\n",
    "plt.hist(y, color='b')"
   ]
  },
  {
   "cell_type": "code",
   "execution_count": null,
   "id": "9f2dd62b",
   "metadata": {},
   "outputs": [],
   "source": []
  }
 ],
 "metadata": {
  "kernelspec": {
   "display_name": "Python 3",
   "language": "python",
   "name": "python3"
  },
  "language_info": {
   "codemirror_mode": {
    "name": "ipython",
    "version": 3
   },
   "file_extension": ".py",
   "mimetype": "text/x-python",
   "name": "python",
   "nbconvert_exporter": "python",
   "pygments_lexer": "ipython3",
   "version": "3.9.4"
  }
 },
 "nbformat": 4,
 "nbformat_minor": 5
}
